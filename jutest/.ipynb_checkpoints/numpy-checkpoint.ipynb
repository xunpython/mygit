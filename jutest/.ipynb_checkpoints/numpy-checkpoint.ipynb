{
 "cells": [
  {
   "cell_type": "code",
   "execution_count": 4,
   "metadata": {},
   "outputs": [
    {
     "name": "stdout",
     "output_type": "stream",
     "text": [
      "[[80 89 86 67 79]\n",
      " [78 97 89 67 81]\n",
      " [90 94 78 67 74]\n",
      " [91 91 90 67 69]\n",
      " [76 87 75 67 86]\n",
      " [70 79 84 67 84]\n",
      " [94 92 93 67 64]\n",
      " [86 85 83 67 80]]\n"
     ]
    }
   ],
   "source": [
    "import numpy as np\n",
    "\n",
    "# 创建ndarray\n",
    "\n",
    "score = np.array([\n",
    "    [80, 89, 86, 67, 79],\n",
    "    [78, 97, 89, 67, 81],\n",
    "    [90, 94, 78, 67, 74],\n",
    "    [91, 91, 90, 67, 69],\n",
    "    [76, 87, 75, 67, 86],\n",
    "    [70, 79, 84, 67, 84],\n",
    "    [94, 92, 93, 67, 64],\n",
    "    [86, 85, 83, 67, 80]]\n",
    ")\n",
    "print(score)"
   ]
  },
  {
   "cell_type": "code",
   "execution_count": null,
   "metadata": {},
   "outputs": [],
   "source": [
    "import random\n",
    "import time\n",
    "import numpy as np \n",
    "a = []\n",
    "for i in range(100000000):\n",
    "    a.append(random.random())\n",
    "t1 = time.time()\n",
    "\n",
    "    "
   ]
  }
 ],
 "metadata": {
  "kernelspec": {
   "display_name": "Python 3",
   "language": "python",
   "name": "python3"
  },
  "language_info": {
   "codemirror_mode": {
    "name": "ipython",
    "version": 3
   },
   "file_extension": ".py",
   "mimetype": "text/x-python",
   "name": "python",
   "nbconvert_exporter": "python",
   "pygments_lexer": "ipython3",
   "version": "3.7.3"
  }
 },
 "nbformat": 4,
 "nbformat_minor": 4
}
