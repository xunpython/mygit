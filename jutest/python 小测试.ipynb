{
 "cells": [
  {
   "cell_type": "code",
   "execution_count": 14,
   "metadata": {},
   "outputs": [
    {
     "name": "stdout",
     "output_type": "stream",
     "text": [
      "1\n"
     ]
    }
   ],
   "source": [
    "# def binary_search(arr,left,right,hkey):\n",
    "#     while left <= right:\n",
    "#         mid = left + (right-left)//2\n",
    "#         if arr[mid] == hkey:\n",
    "#             return mid\n",
    "#         elif arr[mid] > hkey:\n",
    "#             right = mid -1\n",
    "#         else:\n",
    "#             left = mid +1 \n",
    "#     return -1\n",
    "# if __name__ == \"__main__\":\n",
    "#     sorted_list = [1,2,3,4,5,6,7,8,9,10]\n",
    "#     result = binary_search(sorted_list,0,8,2)\n",
    "#     print(result)\n",
    "    "
   ]
  },
  {
   "cell_type": "code",
   "execution_count": 19,
   "metadata": {},
   "outputs": [
    {
     "name": "stdout",
     "output_type": "stream",
     "text": [
      "3\n"
     ]
    }
   ],
   "source": [
    "def binary_search(arr,left,right,hkey):\n",
    "    if len(arr) == 0 :\n",
    "        return -1 \n",
    "    if left > right:\n",
    "        return -1\n",
    "    mid = left + (right-left)//2\n",
    "    if arr[mid] == hkey:\n",
    "        return mid\n",
    "    elif arr[mid]<hkey:\n",
    "        return binary_search(arr,mid+1,right,hkey)\n",
    "    else:\n",
    "        return binary_search(arr,mid-1,right,hkey)\n",
    "if __name__ == \"__main__\":\n",
    "    sorted_list = [1,2,3,4,5,6,7,8]\n",
    "    result = binary_search(sorted_list,0,7,4)\n",
    "    print(result)"
   ]
  },
  {
   "cell_type": "code",
   "execution_count": 25,
   "metadata": {},
   "outputs": [
    {
     "name": "stdout",
     "output_type": "stream",
     "text": [
      "True\n"
     ]
    }
   ],
   "source": [
    "import os \n",
    "path = r'C:\\Users\\13265\\Desktop\\apps'\n",
    "print(os.access(path,os.X_OK))"
   ]
  },
  {
   "cell_type": "code",
   "execution_count": 27,
   "metadata": {},
   "outputs": [
    {
     "name": "stdout",
     "output_type": "stream",
     "text": [
      "2896c800cd695e1fcfe01ef26ebcbd32b0303429\n"
     ]
    }
   ],
   "source": [
    "import hashlib\n",
    "sha1 = hashlib.sha1()\n",
    "data = \"dtms\"\n",
    "sha1.update(data.encode('utf-8'))\n",
    "sha1_data = sha1.hexdigest()\n",
    "print(sha1_data)"
   ]
  },
  {
   "cell_type": "code",
   "execution_count": 1,
   "metadata": {},
   "outputs": [
    {
     "name": "stdout",
     "output_type": "stream",
     "text": [
      "0b1010\n"
     ]
    }
   ],
   "source": [
    "print(bin(10))"
   ]
  },
  {
   "cell_type": "code",
   "execution_count": 2,
   "metadata": {},
   "outputs": [
    {
     "name": "stdout",
     "output_type": "stream",
     "text": [
      "0o11\n"
     ]
    }
   ],
   "source": [
    "print(oct(9))"
   ]
  },
  {
   "cell_type": "code",
   "execution_count": 3,
   "metadata": {},
   "outputs": [
    {
     "name": "stdout",
     "output_type": "stream",
     "text": [
      "0xf\n"
     ]
    }
   ],
   "source": [
    "print(hex(15))"
   ]
  },
  {
   "cell_type": "code",
   "execution_count": 4,
   "metadata": {},
   "outputs": [
    {
     "name": "stdout",
     "output_type": "stream",
     "text": [
      "b'apple'\n"
     ]
    }
   ],
   "source": [
    "s = 'apple'\n",
    "print(bytes(s,encoding='utf-8'))"
   ]
  },
  {
   "cell_type": "code",
   "execution_count": 5,
   "metadata": {},
   "outputs": [
    {
     "name": "stdout",
     "output_type": "stream",
     "text": [
      "100\n"
     ]
    }
   ],
   "source": [
    "i = 100\n",
    "print(str(i))"
   ]
  },
  {
   "cell_type": "code",
   "execution_count": 6,
   "metadata": {},
   "outputs": [
    {
     "name": "stdout",
     "output_type": "stream",
     "text": [
      "A\n"
     ]
    }
   ],
   "source": [
    "print(chr(65))"
   ]
  },
  {
   "cell_type": "code",
   "execution_count": 7,
   "metadata": {},
   "outputs": [
    {
     "name": "stdout",
     "output_type": "stream",
     "text": [
      "65\n"
     ]
    }
   ],
   "source": [
    "print(ord('A'))"
   ]
  },
  {
   "cell_type": "code",
   "execution_count": 11,
   "metadata": {},
   "outputs": [
    {
     "name": "stdout",
     "output_type": "stream",
     "text": [
      "{'a': 'a', 'b': 'b'}\n"
     ]
    }
   ],
   "source": [
    "print(dict(a= 'a' ,b = 'b' ))"
   ]
  },
  {
   "cell_type": "code",
   "execution_count": 12,
   "metadata": {},
   "outputs": [
    {
     "name": "stdout",
     "output_type": "stream",
     "text": [
      "{'a': 1, 'b': 2}\n"
     ]
    }
   ],
   "source": [
    "print(dict(zip(['a','b'],[1,2])))"
   ]
  },
  {
   "cell_type": "code",
   "execution_count": 14,
   "metadata": {},
   "outputs": [
    {
     "name": "stdout",
     "output_type": "stream",
     "text": [
      "{'a': 1, 'b': 2}\n"
     ]
    }
   ],
   "source": [
    "print(dict([('a',1),('b',2)]))"
   ]
  },
  {
   "cell_type": "code",
   "execution_count": 21,
   "metadata": {},
   "outputs": [
    {
     "name": "stdout",
     "output_type": "stream",
     "text": [
      "[[1, 1], [1, 1], [1, 2, 1], [1, 3, 3, 1], [1, 4, 6, 4, 1], [1, 5, 10, 10, 5, 1], [1, 6, 15, 20, 15, 6, 1], [1, 7, 21, 35, 35, 21, 7, 1], [1, 8, 28, 56, 70, 56, 28, 8, 1], [1, 9, 36, 84, 126, 126, 84, 36, 9, 1], [1, 10, 45, 120, 210, 252, 210, 120, 45, 10, 1], [1, 11, 55, 165, 330, 462, 462, 330, 165, 55, 11, 1], [1, 12, 66, 220, 495, 792, 924, 792, 495, 220, 66, 12, 1], [1, 13, 78, 286, 715, 1287, 1716, 1716, 1287, 715, 286, 78, 13, 1], [1, 14, 91, 364, 1001, 2002, 3003, 3432, 3003, 2002, 1001, 364, 91, 14, 1]]\n"
     ]
    }
   ],
   "source": [
    "# 给定一个非负整数 numRows，生成杨辉三角的前 numRows 行。\n",
    "class Sloutions():\n",
    "    def genreate(self,numRows):\n",
    "        if numRows == 0:\n",
    "            return []\n",
    "        elif numRows == 0:\n",
    "            return[[1]]\n",
    "        else:\n",
    "            yanghui = self.genreate(numRows-1)\n",
    "            last_row = [1] + [yanghui[-1][i-1] + yanghui[-1][i] for i in range(1, numRows-1)] + [1]\n",
    "        yanghui.append(last_row)\n",
    "        return yanghui\n",
    "a = Sloutions().genreate(numRows=15)\n",
    "print(a)\n",
    "\n",
    "        "
   ]
  },
  {
   "cell_type": "code",
   "execution_count": 24,
   "metadata": {},
   "outputs": [
    {
     "ename": "TypeError",
     "evalue": "filbar() missing 1 required positional argument: 'N'",
     "output_type": "error",
     "traceback": [
      "\u001b[1;31m---------------------------------------------------------------------------\u001b[0m",
      "\u001b[1;31mTypeError\u001b[0m                                 Traceback (most recent call last)",
      "\u001b[1;32m<ipython-input-24-11bfa544f9eb>\u001b[0m in \u001b[0;36m<module>\u001b[1;34m\u001b[0m\n\u001b[0;32m     10\u001b[0m         \u001b[0mhistory\u001b[0m\u001b[1;33m[\u001b[0m\u001b[0mN\u001b[0m\u001b[1;33m]\u001b[0m \u001b[1;33m=\u001b[0m \u001b[0mresult\u001b[0m\u001b[1;33m\u001b[0m\u001b[1;33m\u001b[0m\u001b[0m\n\u001b[0;32m     11\u001b[0m         \u001b[1;32mreturn\u001b[0m \u001b[0mresult\u001b[0m\u001b[1;33m\u001b[0m\u001b[1;33m\u001b[0m\u001b[0m\n\u001b[1;32m---> 12\u001b[1;33m \u001b[0ma\u001b[0m \u001b[1;33m=\u001b[0m \u001b[0mfilbar\u001b[0m\u001b[1;33m(\u001b[0m\u001b[1;36m10\u001b[0m\u001b[1;33m)\u001b[0m\u001b[1;33m\u001b[0m\u001b[1;33m\u001b[0m\u001b[0m\n\u001b[0m\u001b[0;32m     13\u001b[0m \u001b[0mprint\u001b[0m\u001b[1;33m(\u001b[0m\u001b[0ma\u001b[0m\u001b[1;33m)\u001b[0m\u001b[1;33m\u001b[0m\u001b[1;33m\u001b[0m\u001b[0m\n\u001b[0;32m     14\u001b[0m \u001b[1;33m\u001b[0m\u001b[0m\n",
      "\u001b[1;31mTypeError\u001b[0m: filbar() missing 1 required positional argument: 'N'"
     ]
    }
   ],
   "source": [
    "def filbar(self,N):\n",
    "    history = []\n",
    "    def recur(N):\n",
    "        if N in history:\n",
    "            return history[N]\n",
    "        if N <2 :\n",
    "            result = N\n",
    "        else:\n",
    "            result = recur(N-1)+recur(N-2)\n",
    "        history[N] = result\n",
    "        return result\n",
    "a = filbar(10)\n",
    "print(a)\n",
    "    "
   ]
  },
  {
   "cell_type": "code",
   "execution_count": 25,
   "metadata": {},
   "outputs": [],
   "source": [
    "import pptx"
   ]
  },
  {
   "cell_type": "code",
   "execution_count": 33,
   "metadata": {},
   "outputs": [
    {
     "name": "stdout",
     "output_type": "stream",
     "text": [
      "\n",
      "\n",
      "项目问题及风险\n",
      "\n",
      "项目问题及风险\n"
     ]
    }
   ],
   "source": [
    "from pptx import Presentation\n",
    "prs = Presentation(r'C:\\Users\\13265\\Desktop\\1.pptx')\n",
    "for idx,i in enumerate(prs.slides):\n",
    "    if idx == 4:\n",
    "        for shape in i.shapes:\n",
    "            if shape.has_text_frame:\n",
    "                text_frame = shape.text_frame\n",
    "                print(text_frame.text)"
   ]
  },
  {
   "cell_type": "code",
   "execution_count": 40,
   "metadata": {},
   "outputs": [
    {
     "ename": "KeyError",
     "evalue": "'no placeholder on this slide with idx == 3'",
     "output_type": "error",
     "traceback": [
      "\u001b[1;31m---------------------------------------------------------------------------\u001b[0m",
      "\u001b[1;31mKeyError\u001b[0m                                  Traceback (most recent call last)",
      "\u001b[1;32m<ipython-input-40-6deb6a27c983>\u001b[0m in \u001b[0;36m<module>\u001b[1;34m\u001b[0m\n\u001b[0;32m      3\u001b[0m \u001b[0mpre\u001b[0m \u001b[1;33m=\u001b[0m \u001b[0mPresentation\u001b[0m\u001b[1;33m(\u001b[0m\u001b[1;34mr'C:\\Users\\13265\\Desktop\\1.pptx'\u001b[0m\u001b[1;33m)\u001b[0m\u001b[1;33m\u001b[0m\u001b[1;33m\u001b[0m\u001b[0m\n\u001b[0;32m      4\u001b[0m \u001b[0mslide\u001b[0m \u001b[1;33m=\u001b[0m \u001b[0mprs\u001b[0m\u001b[1;33m.\u001b[0m\u001b[0mslides\u001b[0m\u001b[1;33m.\u001b[0m\u001b[0madd_slide\u001b[0m\u001b[1;33m(\u001b[0m\u001b[0mpre\u001b[0m\u001b[1;33m.\u001b[0m\u001b[0mslide_layouts\u001b[0m\u001b[1;33m[\u001b[0m\u001b[1;36m0\u001b[0m\u001b[1;33m]\u001b[0m\u001b[1;33m)\u001b[0m\u001b[1;33m\u001b[0m\u001b[1;33m\u001b[0m\u001b[0m\n\u001b[1;32m----> 5\u001b[1;33m \u001b[0mname\u001b[0m \u001b[1;33m=\u001b[0m \u001b[0mslide\u001b[0m\u001b[1;33m.\u001b[0m\u001b[0mplaceholders\u001b[0m\u001b[1;33m[\u001b[0m\u001b[1;36m3\u001b[0m\u001b[1;33m]\u001b[0m\u001b[1;33m\u001b[0m\u001b[1;33m\u001b[0m\u001b[0m\n\u001b[0m\u001b[0;32m      6\u001b[0m \u001b[0mwhy\u001b[0m \u001b[1;33m=\u001b[0m \u001b[0mslide\u001b[0m\u001b[1;33m.\u001b[0m\u001b[0mplaceholders\u001b[0m\u001b[1;33m[\u001b[0m\u001b[1;36m4\u001b[0m\u001b[1;33m]\u001b[0m\u001b[1;33m\u001b[0m\u001b[1;33m\u001b[0m\u001b[0m\n\u001b[0;32m      7\u001b[0m \u001b[0mname\u001b[0m\u001b[1;33m.\u001b[0m\u001b[0mtext\u001b[0m \u001b[1;33m=\u001b[0m \u001b[1;34m\"黄同学\"\u001b[0m\u001b[1;33m\u001b[0m\u001b[1;33m\u001b[0m\u001b[0m\n",
      "\u001b[1;32md:\\keqi\\lib\\site-packages\\pptx\\shapes\\shapetree.py\u001b[0m in \u001b[0;36m__getitem__\u001b[1;34m(self, idx)\u001b[0m\n\u001b[0;32m    728\u001b[0m             \u001b[1;32mif\u001b[0m \u001b[0me\u001b[0m\u001b[1;33m.\u001b[0m\u001b[0mph_idx\u001b[0m \u001b[1;33m==\u001b[0m \u001b[0midx\u001b[0m\u001b[1;33m:\u001b[0m\u001b[1;33m\u001b[0m\u001b[1;33m\u001b[0m\u001b[0m\n\u001b[0;32m    729\u001b[0m                 \u001b[1;32mreturn\u001b[0m \u001b[0mSlideShapeFactory\u001b[0m\u001b[1;33m(\u001b[0m\u001b[0me\u001b[0m\u001b[1;33m,\u001b[0m \u001b[0mself\u001b[0m\u001b[1;33m)\u001b[0m\u001b[1;33m\u001b[0m\u001b[1;33m\u001b[0m\u001b[0m\n\u001b[1;32m--> 730\u001b[1;33m         \u001b[1;32mraise\u001b[0m \u001b[0mKeyError\u001b[0m\u001b[1;33m(\u001b[0m\u001b[1;34m\"no placeholder on this slide with idx == %d\"\u001b[0m \u001b[1;33m%\u001b[0m \u001b[0midx\u001b[0m\u001b[1;33m)\u001b[0m\u001b[1;33m\u001b[0m\u001b[1;33m\u001b[0m\u001b[0m\n\u001b[0m\u001b[0;32m    731\u001b[0m \u001b[1;33m\u001b[0m\u001b[0m\n\u001b[0;32m    732\u001b[0m     \u001b[1;32mdef\u001b[0m \u001b[0m__iter__\u001b[0m\u001b[1;33m(\u001b[0m\u001b[0mself\u001b[0m\u001b[1;33m)\u001b[0m\u001b[1;33m:\u001b[0m\u001b[1;33m\u001b[0m\u001b[1;33m\u001b[0m\u001b[0m\n",
      "\u001b[1;31mKeyError\u001b[0m: 'no placeholder on this slide with idx == 3'"
     ]
    }
   ],
   "source": [
    "import pptx\n",
    "from pptx import Presentation\n",
    "pre = Presentation(r'C:\\Users\\13265\\Desktop\\1.pptx')\n",
    "slide = prs.slides.add_slide(pre.slide_layouts[0])\n",
    "name = slide.placeholders[3]\n",
    "why = slide.placeholders[4]\n",
    "name.text = \"黄同学\"\n",
    "why.text = \"学习太积极\"\n",
    "prs.save(\"内容填充.pptx\")\n",
    "# for shape in slide.placeholders:\n",
    "#     phf = shape.placeholder_format\n",
    "#     print(f\"{phf.idx}--{shape.name}--{phf.type}\")\n",
    "#     shape.text = f\"{phf.idx}--{shape.name}--{phf.type}\"\n",
    "# # 保存\n",
    "# pre.save('模板.pptx')\n"
   ]
  },
  {
   "cell_type": "code",
   "execution_count": 44,
   "metadata": {},
   "outputs": [
    {
     "name": "stdout",
     "output_type": "stream",
     "text": [
      "0--Title 1--CENTER_TITLE (3)\n",
      "1--Subtitle 2--SUBTITLE (4)\n",
      "-------------------------------------------\n",
      "0--Title 1--TITLE (1)\n",
      "1--Content Placeholder 2--OBJECT (7)\n"
     ]
    }
   ],
   "source": [
    "import pptx\n",
    "from pptx import Presentation\n",
    "\n",
    "prs = Presentation(\"空白.pptx\")\n",
    "slide = prs.slides.add_slide(prs.slide_layouts[0])\n",
    "for shape in slide.placeholders:\n",
    "    phf = shape.placeholder_format\n",
    "    print(f\"{phf.idx}--{shape.name}--{phf.type}\")\n",
    "    shape.text = f\"{phf.idx}--{shape.name}--{phf.type}\"\n",
    "print(\"-------------------------------------------\")\n",
    "slide = prs.slides.add_slide(prs.slide_layouts[1])\n",
    "for shape in slide.placeholders:\n",
    "    phf = shape.placeholder_format\n",
    "    print(f\"{phf.idx}--{shape.name}--{phf.type}\")\n",
    "    shape.text = f\"{phf.idx}--{shape.name}--{phf.type}\"\n",
    "\n",
    "prs.save(\"哈哈.pptx\")"
   ]
  },
  {
   "cell_type": "code",
   "execution_count": 47,
   "metadata": {},
   "outputs": [],
   "source": [
    "import pptx\n",
    "from pptx import Presentation\n",
    "\n",
    "prs = Presentation(\"空白.pptx\")\n",
    "slide = prs.slides.add_slide(prs.slide_layouts[0])\n",
    "name = slide.placeholders[0]\n",
    "why = slide.placeholders[1]\n",
    "name.text = \"黄同学\"\n",
    "why.text = \"学习太积极\"\n",
    "# --------------------------------------------------- #\n",
    "prs1 = Presentation(\"空白.pptx\")\n",
    "slide1 = prs.slides.add_slide(prs.slide_layouts[1])\n",
    "shapes = slide1.shapes\n",
    "title_shape = shapes.title  # 这句代码可以改为title_shape = shapes.placeholders[0]\n",
    "body_shape = shapes.placeholders[1]\n",
    "\n",
    "title_shape.text = \"这是一个标题\"\n",
    "\n",
    "tf = body_shape.text_frame\n",
    "# 这句代码就是给body占位符添加内容！\n",
    "tf.text = \"带圆点的符号1\"\n",
    "\n",
    "p = tf.add_paragraph()\n",
    "# 这个代码表示在原来的基础上，添加第一个段落！\n",
    "p.text = \"带圆点的符号2\"\n",
    "\n",
    "p = tf.add_paragraph()\n",
    "# 这个代码表示在原来的基础上，添加第二个段落！\n",
    "p.text = \"带圆点的符号3\"\n",
    "\n",
    "prs.save(\"嘿嘿.pptx\")"
   ]
  },
  {
   "cell_type": "code",
   "execution_count": 50,
   "metadata": {},
   "outputs": [],
   "source": [
    "import pptx\n",
    "from pptx import Presentation\n",
    "\n",
    "prs = Presentation(\"模板.pptx\")\n",
    "slide = prs.slides.add_slide(prs.slide_layouts[0])\n",
    "name = slide.placeholders[0]\n",
    "why = slide.placeholders[1]\n",
    "name.text = \"黄同学\"\n",
    "why.text = \"学习太积极\"\n",
    "# --------------------------------------------------- #\n",
    "prs1 = Presentation(\"模板.pptx\")\n",
    "slide1 = prs.slides.add_slide(prs.slide_layouts[1])\n",
    "shapes = slide1.shapes\n",
    "title_shape = shapes.title  # 这句代码可以改为title_shape = shapes.placeholders[0]\n",
    "body_shape = shapes.placeholders[1]\n",
    "\n",
    "title_shape.text = \"这是一个标题\"\n",
    "\n",
    "tf = body_shape.text_frame\n",
    "tf.text = \"带圆点的符号1\"\n",
    "\n",
    "p = tf.add_paragraph()\n",
    "p.text = \"带圆点的符号2\"\n",
    "# 原始内容的层级相当于是0，因此这个段落我设置为层级1，下面的段落设置为层级2\n",
    "p.level = 1\n",
    "\n",
    "p = tf.add_paragraph()\n",
    "p.text = \"带圆点的符号3\"\n",
    "p.level = 2\n",
    "\n",
    "prs.save(\"嘻嘻.pptx\")"
   ]
  },
  {
   "cell_type": "code",
   "execution_count": 51,
   "metadata": {},
   "outputs": [],
   "source": [
    "from pptx import Presentation\n",
    "from pptx.util import Cm, Pt\n",
    "\n",
    "prs = Presentation()\n",
    "# 使用第一个版式\n",
    "black_slide_layout = prs.slide_layouts[0]\n",
    "slide = prs.slides.add_slide(black_slide_layout)\n",
    "\n",
    "left = top = width = height = Cm(3)\n",
    "text_box = slide.shapes.add_textbox(left, top, width, height)\n",
    "tf = text_box.text_frame\n",
    "tf.text = \"这是一段文本框里面的文字\"\n",
    "\n",
    "p = tf.add_paragraph()\n",
    "p.text = \"这是第二段文字，加粗，字号40\"\n",
    "p.font.bold = True\n",
    "p.font.size = Pt(40)\n",
    "\n",
    "prs.save(\"添加一个文本框0.pptx\")"
   ]
  },
  {
   "cell_type": "code",
   "execution_count": 52,
   "metadata": {},
   "outputs": [],
   "source": [
    "from pptx import Presentation\n",
    "from pptx.util import Cm\n",
    "\n",
    "prs = Presentation()\n",
    "# 使用第七个版式\n",
    "black_slide_layout = prs.slide_layouts[6]\n",
    "slide = prs.slides.add_slide(black_slide_layout)\n",
    "\n",
    "left = top = Cm(3)\n",
    "pic = slide.shapes.add_picture(r\"D:\\1.png\", left, top)\n",
    "\n",
    "prs.save(\"添加图片1.pptx\")"
   ]
  },
  {
   "cell_type": "code",
   "execution_count": 53,
   "metadata": {},
   "outputs": [],
   "source": [
    "from pptx import Presentation\n",
    "from pptx.util import Cm\n",
    "\n",
    "prs = Presentation()\n",
    "# 使用第七个版式\n",
    "black_slide_layout = prs.slide_layouts[6]\n",
    "slide = prs.slides.add_slide(black_slide_layout)\n",
    "\n",
    "left = top = Cm(3)\n",
    "height = Cm(5.5)\n",
    "pic = slide.shapes.add_picture(r\"D:\\1.png\", left, top, height=height)\n",
    "\n",
    "prs.save(\"添加图片2.pptx\")"
   ]
  },
  {
   "cell_type": "code",
   "execution_count": 56,
   "metadata": {},
   "outputs": [],
   "source": [
    "from pptx import Presentation\n",
    "from pptx.util import Cm, Pt\n",
    "\n",
    "prs = Presentation()\n",
    "# 使用第七个版式\n",
    "black_slide_layout = prs.slide_layouts[6]\n",
    "slide = prs.slides.add_slide(black_slide_layout)\n",
    "shapes = slide.shapes\n",
    "\n",
    "rows, cols = 5, 3\n",
    "left = top = Cm(5)\n",
    "width = Cm(18)\n",
    "height = Cm(3)\n",
    "\n",
    "table = shapes.add_table(rows, cols, left, top, width, height).table\n",
    "table.columns[0].width = Cm(2)\n",
    "table.columns[1].width = Cm(2)\n",
    "table.columns[2].width = Cm(2)\n",
    "table.rows[0].height = Cm(2)\n",
    "\n",
    "data = [\n",
    "    [\"姓名\",\"性别\",\"成绩\"],\n",
    "    [\"张三\",\"男\",96],\n",
    "    [\"李四\",\"女\",87],\n",
    "    [\"王五\",\"女\",90],\n",
    "    [\"赵六\",\"男\",78]\n",
    "]\n",
    "\n",
    "for row in range(rows):\n",
    "    for col in range(cols):\n",
    "        table.cell(row,col).text = str(data[row][col])\n",
    "prs.save(\"插入表格.pptx\")"
   ]
  },
  {
   "cell_type": "code",
   "execution_count": 57,
   "metadata": {},
   "outputs": [],
   "source": [
    "from pptx import Presentation\n",
    "from pptx.util import Cm, Pt\n",
    "from pptx.enum.text import MSO_ANCHOR, MSO_AUTO_SIZE\n",
    "\n",
    "prs = Presentation()\n",
    "# 使用第七个版式\n",
    "black_slide_layout = prs.slide_layouts[6]\n",
    "slide = prs.slides.add_slide(black_slide_layout)\n",
    "\n",
    "left = top = width = height = Cm(3)\n",
    "text_box = slide.shapes.add_textbox(left, top, width, height)\n",
    "tf = text_box.text_frame\n",
    "tf.text = \"这是一段文本框里面的文字\"\n",
    "# ----------------------------------------- #\n",
    "tf.margin_bottom = Cm(0.1) # 下边距\n",
    "tf.margin_left = 0 # 下边距\n",
    "# 一定要导入MSO_ANCHOR这个库\n",
    "tf.vertical_anchor = MSO_ANCHOR.BOTTOM # 对齐文本方式：底端对齐\n",
    "tf.word_wrap = True # 框中的文字自动换行\n",
    "\n",
    "prs.save(\"文本框样式的调整.pptx\")"
   ]
  },
  {
   "cell_type": "code",
   "execution_count": 58,
   "metadata": {},
   "outputs": [],
   "source": [
    "from pptx import Presentation\n",
    "from pptx.util import Cm, Pt\n",
    "from pptx.enum.text import MSO_ANCHOR, MSO_AUTO_SIZE\n",
    "from pptx.dml.color import RGBColor\n",
    "\n",
    "prs = Presentation()\n",
    "# 使用第七个版式\n",
    "black_slide_layout = prs.slide_layouts[6]\n",
    "slide = prs.slides.add_slide(black_slide_layout)\n",
    "\n",
    "left = top = width = height = Cm(3)\n",
    "text_box = slide.shapes.add_textbox(left, top, width, height)\n",
    "tf = text_box.text_frame\n",
    "tf.text = \"这是一段文本框里面的文字\"\n",
    "# -------------------------------------- #\n",
    "tf.margin_bottom = Cm(0.1) # 下边距\n",
    "tf.margin_left = 0 # 下边距\n",
    "tf.vertical_anchor = MSO_ANCHOR.BOTTOM  \n",
    "tf.word_wrap = True # 框中的文字自动换行\n",
    "# -------------------------------------- #\n",
    "fill = text_box.fill\n",
    "fill.solid()\n",
    "# 使用之前一定要导入RGBColor这个库\n",
    "fill.fore_color.rgb = RGBColor(247, 150, 70)\n",
    "\n",
    "prs.save(\"文本框背景色的调整.pptx\")"
   ]
  },
  {
   "cell_type": "code",
   "execution_count": 61,
   "metadata": {},
   "outputs": [],
   "source": [
    "from pptx import Presentation\n",
    "from pptx.util import Cm, Pt\n",
    "from pptx.enum.text import MSO_ANCHOR, MSO_AUTO_SIZE\n",
    "from pptx.dml.color import RGBColor\n",
    "\n",
    "prs = Presentation()\n",
    "# 使用第七个版式\n",
    "black_slide_layout = prs.slide_layouts[6]\n",
    "slide = prs.slides.add_slide(black_slide_layout)\n",
    "\n",
    "left = top = width = height = Cm(3)\n",
    "text_box = slide.shapes.add_textbox(left, top, width, height)\n",
    "tf = text_box.text_frame\n",
    "tf.text = \"这是一段文本框里面的文字\"\n",
    "# -------------------------------------- #\n",
    "tf.margin_bottom = Cm(0.1) # 下边距\n",
    "tf.margin_left = 0 # 下边距\n",
    "tf.vertical_anchor = MSO_ANCHOR.BOTTOM  \n",
    "tf.word_wrap = True # 框中的文字自动换行\n",
    "# -------------------------------------- #\n",
    "fill = text_box.fill\n",
    "fill.solid()\n",
    "# 使用之前一定要导入RGBColor这个库\n",
    "fill.fore_color.rgb = RGBColor(247, 150, 70)\n",
    "# -------------------------------------- #\n",
    "line = text_box.line\n",
    "line.color.rgb = RGBColor(255, 0, 0)\n",
    "line.width = Cm(0.3)\n",
    "\n",
    "prs.save(\"文本框边框样式调整.pptx\")"
   ]
  },
  {
   "cell_type": "code",
   "execution_count": 62,
   "metadata": {},
   "outputs": [],
   "source": [
    "from pptx import Presentation\n",
    "from pptx.enum.text import PP_ALIGN\n",
    "\n",
    "prs = Presentation()\n",
    "# 使用第七个版式\n",
    "black_slide_layout = prs.slide_layouts[6]\n",
    "slide = prs.slides.add_slide(black_slide_layout)\n",
    "\n",
    "left = top = width = height = Cm(3)\n",
    "text_box = slide.shapes.add_textbox(left, top, width, height)\n",
    "tf = text_box.text_frame\n",
    "# ---------------------------- #\n",
    "p = tf.add_paragraph()\n",
    "p.text = \"这是第二段文字\"\n",
    "p.alignment = PP_ALIGN.LEFT\n",
    "\n",
    "prs.save(\"段落对其调整.pptx\")"
   ]
  },
  {
   "cell_type": "code",
   "execution_count": 63,
   "metadata": {},
   "outputs": [],
   "source": [
    "from pptx import Presentation\n",
    "from pptx.util import Cm, Pt\n",
    "from pptx.enum.text import MSO_ANCHOR, MSO_AUTO_SIZE\n",
    "from pptx.dml.color import RGBColor\n",
    "from pptx.enum.text import PP_ALIGN\n",
    "\n",
    "prs = Presentation()\n",
    "# 使用第七个版式\n",
    "black_slide_layout = prs.slide_layouts[6]\n",
    "slide = prs.slides.add_slide(black_slide_layout)\n",
    "\n",
    "left = top = width = height = Cm(3)\n",
    "text_box = slide.shapes.add_textbox(left, top, width, height)\n",
    "tf = text_box.text_frame\n",
    "# ---------------------------- #\n",
    "p = tf.add_paragraph()\n",
    "p.text = \"这是第二段文字\"\n",
    "p.alignment = PP_ALIGN.LEFT\n",
    "# ------------------------------------- #\n",
    "p.font.bold = True\n",
    "p.font.name = \"宋体\"\n",
    "p.font.color.rgb = RGBColor(247, 150, 70)\n",
    "p.font.size = Pt(30)\n",
    "\n",
    "prs.save(\"字体样式调整.pptx\")"
   ]
  },
  {
   "cell_type": "code",
   "execution_count": null,
   "metadata": {},
   "outputs": [],
   "source": []
  }
 ],
 "metadata": {
  "kernelspec": {
   "display_name": "Python 3",
   "language": "python",
   "name": "python3"
  },
  "language_info": {
   "codemirror_mode": {
    "name": "ipython",
    "version": 3
   },
   "file_extension": ".py",
   "mimetype": "text/x-python",
   "name": "python",
   "nbconvert_exporter": "python",
   "pygments_lexer": "ipython3",
   "version": "3.7.3"
  }
 },
 "nbformat": 4,
 "nbformat_minor": 4
}
