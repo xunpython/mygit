{
 "cells": [
  {
   "cell_type": "code",
   "execution_count": 1,
   "metadata": {},
   "outputs": [
    {
     "ename": "AttributeError",
     "evalue": "'str' object has no attribute 'keys'",
     "output_type": "error",
     "traceback": [
      "\u001b[1;31m---------------------------------------------------------------------------\u001b[0m",
      "\u001b[1;31mAttributeError\u001b[0m                            Traceback (most recent call last)",
      "\u001b[1;32m<ipython-input-1-84a3cb2fa584>\u001b[0m in \u001b[0;36m<module>\u001b[1;34m\u001b[0m\n\u001b[0;32m      1\u001b[0m \u001b[0mlist_a\u001b[0m \u001b[1;33m=\u001b[0m \u001b[1;33m[\u001b[0m\u001b[1;33m{\u001b[0m\u001b[1;34m'耗材名称 *'\u001b[0m\u001b[1;33m:\u001b[0m \u001b[1;34m'adsf'\u001b[0m\u001b[1;33m,\u001b[0m \u001b[1;34m'耗材型号 *'\u001b[0m\u001b[1;33m:\u001b[0m \u001b[1;34m'fads'\u001b[0m\u001b[1;33m,\u001b[0m \u001b[1;34m'数量 *'\u001b[0m\u001b[1;33m:\u001b[0m \u001b[1;34m'312'\u001b[0m\u001b[1;33m,\u001b[0m \u001b[1;34m'单价(元)'\u001b[0m\u001b[1;33m:\u001b[0m \u001b[1;34m'312'\u001b[0m\u001b[1;33m,\u001b[0m \u001b[1;34m'采购日期'\u001b[0m\u001b[1;33m:\u001b[0m \u001b[1;34m'2019/01/01 00:00:00'\u001b[0m\u001b[1;33m,\u001b[0m \u001b[1;34m'品牌'\u001b[0m\u001b[1;33m:\u001b[0m \u001b[1;34m'132'\u001b[0m\u001b[1;33m,\u001b[0m \u001b[1;34m'负责人'\u001b[0m\u001b[1;33m:\u001b[0m \u001b[1;34m'312'\u001b[0m\u001b[1;33m,\u001b[0m \u001b[1;34m'存放位置'\u001b[0m\u001b[1;33m:\u001b[0m \u001b[1;34m'321'\u001b[0m\u001b[1;33m,\u001b[0m \u001b[1;34m'物流编号'\u001b[0m\u001b[1;33m:\u001b[0m \u001b[1;34m'312'\u001b[0m\u001b[1;33m,\u001b[0m \u001b[1;34m'物流单位'\u001b[0m\u001b[1;33m:\u001b[0m \u001b[1;34m'312'\u001b[0m\u001b[1;33m,\u001b[0m \u001b[1;34m'耗材信息描述'\u001b[0m\u001b[1;33m:\u001b[0m \u001b[1;34m'312'\u001b[0m\u001b[1;33m,\u001b[0m \u001b[1;34m'仓库管理员'\u001b[0m\u001b[1;33m:\u001b[0m \u001b[1;34m'312'\u001b[0m\u001b[1;33m,\u001b[0m \u001b[1;34m'备注'\u001b[0m\u001b[1;33m:\u001b[0m \u001b[1;34m'31'\u001b[0m\u001b[1;33m}\u001b[0m\u001b[1;33m,\u001b[0m \u001b[1;33m{\u001b[0m\u001b[1;34m'耗材名称 *'\u001b[0m\u001b[1;33m:\u001b[0m \u001b[1;34m'213'\u001b[0m\u001b[1;33m,\u001b[0m \u001b[1;34m'耗材型号 *'\u001b[0m\u001b[1;33m:\u001b[0m \u001b[1;34m'4132'\u001b[0m\u001b[1;33m,\u001b[0m \u001b[1;34m'数量 *'\u001b[0m\u001b[1;33m:\u001b[0m \u001b[1;34m'4123'\u001b[0m\u001b[1;33m,\u001b[0m \u001b[1;34m'单价(元)'\u001b[0m\u001b[1;33m:\u001b[0m \u001b[1;34m''\u001b[0m\u001b[1;33m,\u001b[0m \u001b[1;34m'采购日期'\u001b[0m\u001b[1;33m:\u001b[0m \u001b[1;34m''\u001b[0m\u001b[1;33m,\u001b[0m \u001b[1;34m'品牌'\u001b[0m\u001b[1;33m:\u001b[0m \u001b[1;34m''\u001b[0m\u001b[1;33m,\u001b[0m \u001b[1;34m'负责人'\u001b[0m\u001b[1;33m:\u001b[0m \u001b[1;34m''\u001b[0m\u001b[1;33m,\u001b[0m \u001b[1;34m'存放位置'\u001b[0m\u001b[1;33m:\u001b[0m \u001b[1;34m''\u001b[0m\u001b[1;33m,\u001b[0m \u001b[1;34m'物流编号'\u001b[0m\u001b[1;33m:\u001b[0m \u001b[1;34m''\u001b[0m\u001b[1;33m,\u001b[0m \u001b[1;34m'物流单位'\u001b[0m\u001b[1;33m:\u001b[0m \u001b[1;34m''\u001b[0m\u001b[1;33m,\u001b[0m \u001b[1;34m'耗材信息描述'\u001b[0m\u001b[1;33m:\u001b[0m \u001b[1;34m''\u001b[0m\u001b[1;33m,\u001b[0m \u001b[1;34m'仓库管理员'\u001b[0m\u001b[1;33m:\u001b[0m \u001b[1;34m''\u001b[0m\u001b[1;33m,\u001b[0m \u001b[1;34m'备注'\u001b[0m\u001b[1;33m:\u001b[0m \u001b[1;34m''\u001b[0m\u001b[1;33m}\u001b[0m\u001b[1;33m]\u001b[0m\u001b[1;33m\u001b[0m\u001b[1;33m\u001b[0m\u001b[0m\n\u001b[0;32m      2\u001b[0m \u001b[1;32mfor\u001b[0m \u001b[0mi\u001b[0m \u001b[1;32min\u001b[0m \u001b[0mlist_a\u001b[0m\u001b[1;33m[\u001b[0m\u001b[1;36m0\u001b[0m\u001b[1;33m]\u001b[0m\u001b[1;33m:\u001b[0m\u001b[1;33m\u001b[0m\u001b[1;33m\u001b[0m\u001b[0m\n\u001b[1;32m----> 3\u001b[1;33m     \u001b[0mprint\u001b[0m\u001b[1;33m(\u001b[0m\u001b[0mi\u001b[0m\u001b[1;33m.\u001b[0m\u001b[0mkeys\u001b[0m\u001b[1;33m(\u001b[0m\u001b[1;33m)\u001b[0m\u001b[1;33m)\u001b[0m\u001b[1;33m\u001b[0m\u001b[1;33m\u001b[0m\u001b[0m\n\u001b[0m",
      "\u001b[1;31mAttributeError\u001b[0m: 'str' object has no attribute 'keys'"
     ]
    }
   ],
   "source": [
    "list_a = [{'耗材名称 *': 'adsf', '耗材型号 *': 'fads', '数量 *': '312', '单价(元)': '312', '采购日期': '2019/01/01 00:00:00', '品牌': '132', '负责人': '312', '存放位置': '321', '物流编号': '312', '物流单位': '312', '耗材信息描述': '312', '仓库管理员': '312', '备注': '31'}, {'耗材名称 *': '213', '耗材型号 *': '4132', '数量 *': '4123', '单价(元)': '', '采购日期': '', '品牌': '', '负责人': '', '存放位置': '', '物流编号': '', '物流单位': '', '耗材信息描述': '', '仓库管理员': '', '备注': ''}]\n",
    "for i in list_a[0]:\n",
    "    print(i.keys())"
   ]
  },
  {
   "cell_type": "code",
   "execution_count": null,
   "metadata": {},
   "outputs": [],
   "source": []
  }
 ],
 "metadata": {
  "kernelspec": {
   "display_name": "Python 3",
   "language": "python",
   "name": "python3"
  },
  "language_info": {
   "codemirror_mode": {
    "name": "ipython",
    "version": 3
   },
   "file_extension": ".py",
   "mimetype": "text/x-python",
   "name": "python",
   "nbconvert_exporter": "python",
   "pygments_lexer": "ipython3",
   "version": "3.7.3"
  }
 },
 "nbformat": 4,
 "nbformat_minor": 4
}
