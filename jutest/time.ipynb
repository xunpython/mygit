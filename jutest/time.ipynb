{
 "cells": [
  {
   "cell_type": "code",
   "execution_count": 3,
   "metadata": {},
   "outputs": [
    {
     "name": "stdout",
     "output_type": "stream",
     "text": [
      "2010-01-01 00:00:00\n"
     ]
    }
   ],
   "source": [
    "import datetime\n",
    "text = '2010/1/1'\n",
    "data = datetime.datetime.strptime(text, '%Y/%m/%d')\n",
    "print(data)\n"
   ]
  },
  {
   "cell_type": "code",
   "execution_count": 18,
   "metadata": {},
   "outputs": [
    {
     "name": "stdout",
     "output_type": "stream",
     "text": [
      "格式不对\n",
      "格式不对\n",
      "2\n"
     ]
    }
   ],
   "source": [
    "list_a = ['addaf','dd','2010/1/1']\n",
    "import datetime\n",
    "def get_data():\n",
    "    for idx,i in enumerate(list_a):\n",
    "        try:\n",
    "            data = datetime.datetime.strptime(i, '%Y/%m/%d')\n",
    "            return data,idx\n",
    "          \n",
    "        except Exception as e:\n",
    "            print('格式不对')\n",
    "   \n",
    "a = get_data()\n",
    "print(a[1])"
   ]
  },
  {
   "cell_type": "code",
   "execution_count": 22,
   "metadata": {},
   "outputs": [
    {
     "ename": "IndentationError",
     "evalue": "unindent does not match any outer indentation level (<tokenize>, line 5)",
     "output_type": "error",
     "traceback": [
      "\u001b[1;36m  File \u001b[1;32m\"<tokenize>\"\u001b[1;36m, line \u001b[1;32m5\u001b[0m\n\u001b[1;33m    print(list_a[idx])\u001b[0m\n\u001b[1;37m    ^\u001b[0m\n\u001b[1;31mIndentationError\u001b[0m\u001b[1;31m:\u001b[0m unindent does not match any outer indentation level\n"
     ]
    }
   ],
   "source": [
    "list_a = ['addaf','dd','2010/1/1']\n",
    "for idx,i in enumerate(list_a):\n",
    "    try:\n",
    "        data = datetime.datetime.strptime(i, '%Y/%m/%d')\n",
    "       print(list_a[idx])\n",
    "\n",
    "    except Exception as e:\n",
    "        print('格式不对')"
   ]
  },
  {
   "cell_type": "code",
   "execution_count": null,
   "metadata": {},
   "outputs": [],
   "source": []
  }
 ],
 "metadata": {
  "kernelspec": {
   "display_name": "Python 3",
   "language": "python",
   "name": "python3"
  },
  "language_info": {
   "codemirror_mode": {
    "name": "ipython",
    "version": 3
   },
   "file_extension": ".py",
   "mimetype": "text/x-python",
   "name": "python",
   "nbconvert_exporter": "python",
   "pygments_lexer": "ipython3",
   "version": "3.7.3"
  }
 },
 "nbformat": 4,
 "nbformat_minor": 4
}
